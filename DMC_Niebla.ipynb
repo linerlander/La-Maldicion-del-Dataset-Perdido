{
 "cells": [
  {
   "cell_type": "markdown",
   "metadata": {},
   "source": [
    "# <p style=\"background-color:#2e2b5f;font-family:Creepster,cursive;color:#ffffff;font-size:150%;text-align:center;border-radius:10px 10px;\">👻 La Maldición del Dataset Perdido 🎃</p>\n",
    "---"
   ]
  },
  {
   "cell_type": "markdown",
   "metadata": {},
   "source": [
    "[![Banner-Maldici-n.png](https://i.postimg.cc/FRY3zfqR/Banner-Maldici-n.png)](https://postimg.cc/sQRv023d)"
   ]
  },
  {
   "cell_type": "markdown",
   "metadata": {},
   "source": [
    "<div class=\"alert alert-block alert-info\" style=\"margin-top: 20px\">\n",
    "\n",
    "<font size = 3>\n",
    "    \n",
    "1. <a href=\"#sec_1\">Introducción</a>  \n",
    "2. <a href=\"#sec_2\">Exploración del set de datos</a>  \n",
    "3. <a href=\"#sec_3\">Selección de Muestras</a>  \n",
    "4. <a href=\"#sec_4\">Pre-selección de variables</a>  \n",
    "5. <a href=\"#sec_5\">Preparación de datos</a>\n",
    "6. <a href=\"#sec_6\">Modelo de regresión Lineal</a>  \n",
    "7. <a href=\"#sec_7\">Métricas de desempeño</a> \n",
    "8. <a href=\"#sec_8\">Conclusiones y Recomendaciones</a>     \n",
    "\n",
    " \n",
    "</font>\n",
    "</div>"
   ]
  },
  {
   "cell_type": "markdown",
   "metadata": {},
   "source": [
    "<a id='sec_1'></a>\n",
    "## `1. Introducción`\n",
    "\n",
    "`🎃 La Maldición del Dataset Perdido: ¡Resuelta! 🎃`\n",
    "\n",
    "- *Errores ocultos liberados: 💻👻* Los datos que estaban sumidos en la oscuridad de valores erróneos y datos faltantes han sido restaurados. Cada campo fue cuidadosamente analizado, y logrado desentrañar la verdad que se escondía entre líneas de código. 📜✨\n",
    "\n",
    "- *Valores perdidos recuperados: 🕵️‍♀️🌟* Como un verdadero detective de datos, encontre las piezas que faltaban, devolviendo la consistencia y la integridad a nuestro dataset. Las sombras no fueron rivales para mi atención al detalle y mi capacidad para detectar cada vacío oculto. 🔍💡\n",
    "\n",
    "- *Inconsistencias corregidas: 🛠️🧩* Has restablecido el orden donde reinaba el caos. Las variables desalineadas y los errores misteriosos que antes perturbaban la fluidez de nuestro análisis fueron corregidos uno por uno, hasta devolver al dataset su brillo original. 🌟\n",
    "\n",
    "**1.2. Recursos disponibles**\n",
    "- [Set de datos Perdidos](data/DMC_Concurso_Dataset_Perdido.csv)"
   ]
  },
  {
   "cell_type": "markdown",
   "metadata": {},
   "source": [
    "**1.3. Diccionario de datos disponibles**\n",
    "| **Clave**  | **Descripción**                                                                 | **Tipo de dato** |\n",
    "|------------|---------------------------------------------------------------------------------|------------------|\n",
    "| age        | Edad del cliente                                                                | Int              |\n",
    "| job        | Profesión del cliente                                                           | Object           |\n",
    "| marital    | Estado civil del cliente                                                        | Object           |\n",
    "| education  | Nivel de educación del cliente                                                  | Object           |\n",
    "| default    | Si el cliente tiene un crédito en incumplimiento (no: no, yes: sí)              | Object           |\n",
    "| balance    | Balance de la cuenta del cliente en dólares estadounidenses                     | Int              |\n",
    "| housing    | Si el cliente tiene un préstamo de vivienda (no: no, yes: sí)                   | Object           |\n",
    "| loan       | Si el cliente tiene un préstamo personal (no: no, yes: sí)                      | Object           |\n",
    "| contact    | Tipo de contacto utilizado para la campaña (cellular, telephone, etc.)          | Object           |\n",
    "| day        | Día del mes en que se contactó al cliente                                       | Int              |\n",
    "| month      | Mes en que se contactó al cliente                                               | Object           |\n",
    "| duration   | Duración del último contacto en segundos                                        | Int              |\n",
    "| campaign   | Número de contactos realizados durante esta campaña                             | Int              |\n",
    "| pdays      | Días transcurridos desde que el cliente fue contactado por última vez           | Int              |\n",
    "| previous   | Número de contactos realizados antes de esta campaña                            | Int              |\n",
    "| poutcome   | Resultado de la campaña anterior                   | Object           |\n",
    "| y          | Si el cliente suscribió el producto (yes: sí, no: no)                           | Object           |\n"
   ]
  },
  {
   "cell_type": "markdown",
   "metadata": {},
   "source": [
    "<a id='sec_2'></a>\n",
    "## `2. Exploración del set de datos`\n",
    "\n",
    "El objetivo de esta fase es poder familiarizarnos con la información contenida en el set de datos.\n",
    "\n",
    "1. Leer el set de datos\n",
    "2. Entender tamaño, columnas y filas del set de datos\n",
    "3. Entender qué tipos de datos tenemos en cada columna\n",
    "4. Verificar si hay datos faltantes y valores duplicados\n",
    "5. Verificar si hay datos outliers mediante gráficos\n",
    "6. Realizar el resumen estadístico\n",
    "7. Verificar datos anomalos en columnas categóricas"
   ]
  },
  {
   "cell_type": "markdown",
   "metadata": {},
   "source": [
    "**2.1. Leer el set de datos**"
   ]
  },
  {
   "cell_type": "code",
   "execution_count": 262,
   "metadata": {},
   "outputs": [],
   "source": [
    "#Importación de librerias\n",
    "import pandas as pd\n",
    "import os\n",
    "import matplotlib.pyplot as plt\n",
    "import seaborn as sns\n",
    "import matplotlib.image as mpimg"
   ]
  },
  {
   "cell_type": "code",
   "execution_count": 263,
   "metadata": {},
   "outputs": [
    {
     "data": {
      "text/html": [
       "<div>\n",
       "<style scoped>\n",
       "    .dataframe tbody tr th:only-of-type {\n",
       "        vertical-align: middle;\n",
       "    }\n",
       "\n",
       "    .dataframe tbody tr th {\n",
       "        vertical-align: top;\n",
       "    }\n",
       "\n",
       "    .dataframe thead th {\n",
       "        text-align: right;\n",
       "    }\n",
       "</style>\n",
       "<table border=\"1\" class=\"dataframe\">\n",
       "  <thead>\n",
       "    <tr style=\"text-align: right;\">\n",
       "      <th></th>\n",
       "      <th>age</th>\n",
       "      <th>job</th>\n",
       "      <th>marital</th>\n",
       "      <th>education</th>\n",
       "      <th>default</th>\n",
       "      <th>balance</th>\n",
       "      <th>housing</th>\n",
       "      <th>loan</th>\n",
       "      <th>contact</th>\n",
       "      <th>day</th>\n",
       "      <th>month</th>\n",
       "      <th>duration</th>\n",
       "      <th>campaign</th>\n",
       "      <th>pdays</th>\n",
       "      <th>previous</th>\n",
       "      <th>poutcome</th>\n",
       "      <th>y</th>\n",
       "    </tr>\n",
       "  </thead>\n",
       "  <tbody>\n",
       "    <tr>\n",
       "      <th>0</th>\n",
       "      <td>58</td>\n",
       "      <td>management</td>\n",
       "      <td>married</td>\n",
       "      <td>tertiary</td>\n",
       "      <td>no</td>\n",
       "      <td>2143</td>\n",
       "      <td>yes</td>\n",
       "      <td>no</td>\n",
       "      <td>unknown</td>\n",
       "      <td>5</td>\n",
       "      <td>may</td>\n",
       "      <td>261</td>\n",
       "      <td>1</td>\n",
       "      <td>-1</td>\n",
       "      <td>0</td>\n",
       "      <td>unknown</td>\n",
       "      <td>no</td>\n",
       "    </tr>\n",
       "    <tr>\n",
       "      <th>1</th>\n",
       "      <td>44</td>\n",
       "      <td>technician</td>\n",
       "      <td>single</td>\n",
       "      <td>secondary</td>\n",
       "      <td>no</td>\n",
       "      <td>29</td>\n",
       "      <td>yes</td>\n",
       "      <td>no</td>\n",
       "      <td>unknown</td>\n",
       "      <td>5</td>\n",
       "      <td>may</td>\n",
       "      <td>151</td>\n",
       "      <td>1</td>\n",
       "      <td>-1</td>\n",
       "      <td>0</td>\n",
       "      <td>unknown</td>\n",
       "      <td>no</td>\n",
       "    </tr>\n",
       "    <tr>\n",
       "      <th>2</th>\n",
       "      <td>33</td>\n",
       "      <td>entrepreneur</td>\n",
       "      <td>married</td>\n",
       "      <td>secondary</td>\n",
       "      <td>no</td>\n",
       "      <td>2</td>\n",
       "      <td>yes</td>\n",
       "      <td>yes</td>\n",
       "      <td>unknown</td>\n",
       "      <td>5</td>\n",
       "      <td>may</td>\n",
       "      <td>76</td>\n",
       "      <td>1</td>\n",
       "      <td>-1</td>\n",
       "      <td>0</td>\n",
       "      <td>unknown</td>\n",
       "      <td>no</td>\n",
       "    </tr>\n",
       "    <tr>\n",
       "      <th>3</th>\n",
       "      <td>47</td>\n",
       "      <td>blue-collar</td>\n",
       "      <td>married</td>\n",
       "      <td>unknown</td>\n",
       "      <td>no</td>\n",
       "      <td>1506</td>\n",
       "      <td>yes</td>\n",
       "      <td>no</td>\n",
       "      <td>unknown</td>\n",
       "      <td>5</td>\n",
       "      <td>may</td>\n",
       "      <td>92</td>\n",
       "      <td>1</td>\n",
       "      <td>-1</td>\n",
       "      <td>0</td>\n",
       "      <td>unknown</td>\n",
       "      <td>no</td>\n",
       "    </tr>\n",
       "    <tr>\n",
       "      <th>4</th>\n",
       "      <td>33</td>\n",
       "      <td>unknown</td>\n",
       "      <td>single</td>\n",
       "      <td>unknown</td>\n",
       "      <td>no</td>\n",
       "      <td>1</td>\n",
       "      <td>no</td>\n",
       "      <td>no</td>\n",
       "      <td>unknown</td>\n",
       "      <td>5</td>\n",
       "      <td>may</td>\n",
       "      <td>198</td>\n",
       "      <td>1</td>\n",
       "      <td>-1</td>\n",
       "      <td>0</td>\n",
       "      <td>unknown</td>\n",
       "      <td>no</td>\n",
       "    </tr>\n",
       "  </tbody>\n",
       "</table>\n",
       "</div>"
      ],
      "text/plain": [
       "   age           job  marital  education default  balance housing loan  \\\n",
       "0   58    management  married   tertiary      no     2143     yes   no   \n",
       "1   44    technician   single  secondary      no       29     yes   no   \n",
       "2   33  entrepreneur  married  secondary      no        2     yes  yes   \n",
       "3   47   blue-collar  married    unknown      no     1506     yes   no   \n",
       "4   33       unknown   single    unknown      no        1      no   no   \n",
       "\n",
       "   contact  day month  duration  campaign  pdays  previous poutcome   y  \n",
       "0  unknown    5   may       261         1     -1         0  unknown  no  \n",
       "1  unknown    5   may       151         1     -1         0  unknown  no  \n",
       "2  unknown    5   may        76         1     -1         0  unknown  no  \n",
       "3  unknown    5   may        92         1     -1         0  unknown  no  \n",
       "4  unknown    5   may       198         1     -1         0  unknown  no  "
      ]
     },
     "execution_count": 263,
     "metadata": {},
     "output_type": "execute_result"
    }
   ],
   "source": [
    "df =  pd.read_csv('data/DMC_Concurso_Dataset_Perdido.csv', sep = ';')\n",
    "df.head(5)"
   ]
  },
  {
   "cell_type": "markdown",
   "metadata": {},
   "source": [
    "**2.2. Entender tamaño, columnas y filas del set de datos**"
   ]
  },
  {
   "cell_type": "code",
   "execution_count": 264,
   "metadata": {},
   "outputs": [
    {
     "name": "stdout",
     "output_type": "stream",
     "text": [
      "El número de filas es: 20739\n",
      "El número de columnas es: 17\n"
     ]
    }
   ],
   "source": [
    "print(f'El número de filas es: {df.shape[0]}')\n",
    "print(f'El número de columnas es: {df.shape[1]}')"
   ]
  },
  {
   "cell_type": "markdown",
   "metadata": {},
   "source": [
    "**2.3. Entender qué tipos de datos tenemos en cada columna**"
   ]
  },
  {
   "cell_type": "code",
   "execution_count": 265,
   "metadata": {},
   "outputs": [
    {
     "name": "stdout",
     "output_type": "stream",
     "text": [
      "<class 'pandas.core.frame.DataFrame'>\n",
      "RangeIndex: 20739 entries, 0 to 20738\n",
      "Data columns (total 17 columns):\n",
      " #   Column     Non-Null Count  Dtype \n",
      "---  ------     --------------  ----- \n",
      " 0   age        20739 non-null  int64 \n",
      " 1   job        20739 non-null  object\n",
      " 2   marital    20739 non-null  object\n",
      " 3   education  20739 non-null  object\n",
      " 4   default    20739 non-null  object\n",
      " 5   balance    20739 non-null  int64 \n",
      " 6   housing    20739 non-null  object\n",
      " 7   loan       20739 non-null  object\n",
      " 8   contact    20739 non-null  object\n",
      " 9   day        20739 non-null  int64 \n",
      " 10  month      20739 non-null  object\n",
      " 11  duration   20739 non-null  int64 \n",
      " 12  campaign   20739 non-null  int64 \n",
      " 13  pdays      20739 non-null  int64 \n",
      " 14  previous   20739 non-null  int64 \n",
      " 15  poutcome   20739 non-null  object\n",
      " 16  y          20739 non-null  object\n",
      "dtypes: int64(7), object(10)\n",
      "memory usage: 2.7+ MB\n"
     ]
    }
   ],
   "source": [
    "df.info()"
   ]
  },
  {
   "cell_type": "markdown",
   "metadata": {},
   "source": [
    ">**Observación**\n",
    "> - Al poder observar a mas detalle el tipo de dato que tiene cada columna, se pudo ver que exiten datos de tipo `int`  y `Object`.\n",
    "> - Al poder observar a mas detalle se tiene en cantida de tipo de dato `int64(7)`, `object(10)`"
   ]
  },
  {
   "cell_type": "markdown",
   "metadata": {},
   "source": [
    "**2.4. Verificar si hay datos faltantes y valores duplicados**"
   ]
  },
  {
   "cell_type": "code",
   "execution_count": 266,
   "metadata": {},
   "outputs": [
    {
     "data": {
      "text/plain": [
       "1"
      ]
     },
     "execution_count": 266,
     "metadata": {},
     "output_type": "execute_result"
    }
   ],
   "source": [
    "df.duplicated().sum()"
   ]
  },
  {
   "cell_type": "markdown",
   "metadata": {},
   "source": [
    ">**Observación**\n",
    "> - Al observar se pudo evidenciar que `si hay valores duplicados`, las cuales se eliminaran en pasos posteriores"
   ]
  },
  {
   "cell_type": "code",
   "execution_count": 267,
   "metadata": {},
   "outputs": [
    {
     "name": "stdout",
     "output_type": "stream",
     "text": [
      "<class 'pandas.core.frame.DataFrame'>\n",
      "RangeIndex: 20739 entries, 0 to 20738\n",
      "Data columns (total 17 columns):\n",
      " #   Column     Non-Null Count  Dtype \n",
      "---  ------     --------------  ----- \n",
      " 0   age        20739 non-null  int64 \n",
      " 1   job        20739 non-null  object\n",
      " 2   marital    20739 non-null  object\n",
      " 3   education  20739 non-null  object\n",
      " 4   default    20739 non-null  object\n",
      " 5   balance    20739 non-null  int64 \n",
      " 6   housing    20739 non-null  object\n",
      " 7   loan       20739 non-null  object\n",
      " 8   contact    20739 non-null  object\n",
      " 9   day        20739 non-null  int64 \n",
      " 10  month      20739 non-null  object\n",
      " 11  duration   20739 non-null  int64 \n",
      " 12  campaign   20739 non-null  int64 \n",
      " 13  pdays      20739 non-null  int64 \n",
      " 14  previous   20739 non-null  int64 \n",
      " 15  poutcome   20739 non-null  object\n",
      " 16  y          20739 non-null  object\n",
      "dtypes: int64(7), object(10)\n",
      "memory usage: 2.7+ MB\n"
     ]
    }
   ],
   "source": [
    "df.info()"
   ]
  },
  {
   "cell_type": "markdown",
   "metadata": {},
   "source": [
    ">**Observación**\n",
    "> - Al observar se pudo evidenciar que `no hay valores nulos.`"
   ]
  },
  {
   "cell_type": "markdown",
   "metadata": {},
   "source": [
    "**2.5. Verificar si hay datos outliers mediante gráficos**"
   ]
  },
  {
   "cell_type": "code",
   "execution_count": 268,
   "metadata": {},
   "outputs": [],
   "source": [
    "# Carpeta para guardar las imágenes\n",
    "output_dir = './Gráficos_Outliers'\n",
    "os.makedirs(output_dir, exist_ok=True)"
   ]
  },
  {
   "cell_type": "code",
   "execution_count": 269,
   "metadata": {},
   "outputs": [
    {
     "name": "stdout",
     "output_type": "stream",
     "text": [
      "Gráficos guardados con éxito!\n"
     ]
    }
   ],
   "source": [
    "numeric_columns = df.select_dtypes(include='number').columns.to_list()\n",
    "\n",
    "plt.style.use('ggplot')\n",
    "sns.set_context(\"talk\")\n",
    "\n",
    "for column in numeric_columns:\n",
    "    plt.figure(figsize=(10, 6)) \n",
    "    sns.boxplot(y=df[column], color='skyblue') \n",
    "    plt.title(f'Boxplot de {column}', fontsize=16)  \n",
    "    plt.ylabel('cantidad', fontsize=14) \n",
    "    plt.xlabel(column, fontsize=14)\n",
    "    plt.grid(True, linestyle='--', alpha=0.7) \n",
    "    plt.savefig(f'{output_dir}/Boxplot_de_{column}.png', bbox_inches='tight') \n",
    "    plt.close()\n",
    "\n",
    "print(f'Gráficos guardados con éxito!')"
   ]
  },
  {
   "cell_type": "markdown",
   "metadata": {},
   "source": [
    "*Boxplot de campaign de ejemplo*"
   ]
  },
  {
   "cell_type": "code",
   "execution_count": 270,
   "metadata": {},
   "outputs": [
    {
     "data": {
      "image/png": "[encoded data removed]",
      "text/plain": [
       "<Figure size 1000x800 with 1 Axes>"
      ]
     },
     "metadata": {},
     "output_type": "display_data"
    }
   ],
   "source": [
    "ruta = 'Gráficos_Outliers/Boxplot_de_campaign.png'\n",
    "plt.figure(figsize=(10, 8))\n",
    "img = mpimg.imread(ruta)\n",
    "plt.imshow(img)\n",
    "plt.axis('off') \n",
    "plt.show()"
   ]
  },
  {
   "cell_type": "markdown",
   "metadata": {},
   "source": [
    ">**Observación**\n",
    "> - Al observar la carpeta `Gráficos_Outliers` y revisar los gráficos generados se pudo evidenciar que `Si hay valores outliers en las columnas age, balance, campaign, duration, pdays y previoucs`, el cual se hara su tratamiento en pasos posteriores para cada columna."
   ]
  },
  {
   "cell_type": "markdown",
   "metadata": {},
   "source": [
    "**2.6. Realizar el resumen estadístico**"
   ]
  },
  {
   "cell_type": "code",
   "execution_count": 271,
   "metadata": {},
   "outputs": [
    {
     "data": {
      "text/html": [
       "<div>\n",
       "<style scoped>\n",
       "    .dataframe tbody tr th:only-of-type {\n",
       "        vertical-align: middle;\n",
       "    }\n",
       "\n",
       "    .dataframe tbody tr th {\n",
       "        vertical-align: top;\n",
       "    }\n",
       "\n",
       "    .dataframe thead th {\n",
       "        text-align: right;\n",
       "    }\n",
       "</style>\n",
       "<table border=\"1\" class=\"dataframe\">\n",
       "  <thead>\n",
       "    <tr style=\"text-align: right;\">\n",
       "      <th></th>\n",
       "      <th>count</th>\n",
       "      <th>mean</th>\n",
       "      <th>std</th>\n",
       "      <th>min</th>\n",
       "      <th>25%</th>\n",
       "      <th>50%</th>\n",
       "      <th>75%</th>\n",
       "      <th>max</th>\n",
       "    </tr>\n",
       "  </thead>\n",
       "  <tbody>\n",
       "    <tr>\n",
       "      <th>age</th>\n",
       "      <td>20739.0</td>\n",
       "      <td>41.095762</td>\n",
       "      <td>11.251527</td>\n",
       "      <td>20.0</td>\n",
       "      <td>33.0</td>\n",
       "      <td>40.0</td>\n",
       "      <td>49.0</td>\n",
       "      <td>530.0</td>\n",
       "    </tr>\n",
       "    <tr>\n",
       "      <th>balance</th>\n",
       "      <td>20739.0</td>\n",
       "      <td>1148.639230</td>\n",
       "      <td>4501.290387</td>\n",
       "      <td>-8019.0</td>\n",
       "      <td>30.0</td>\n",
       "      <td>350.0</td>\n",
       "      <td>1191.0</td>\n",
       "      <td>527532.0</td>\n",
       "    </tr>\n",
       "    <tr>\n",
       "      <th>day</th>\n",
       "      <td>20739.0</td>\n",
       "      <td>15.976469</td>\n",
       "      <td>8.588330</td>\n",
       "      <td>1.0</td>\n",
       "      <td>8.0</td>\n",
       "      <td>15.0</td>\n",
       "      <td>23.0</td>\n",
       "      <td>31.0</td>\n",
       "    </tr>\n",
       "    <tr>\n",
       "      <th>duration</th>\n",
       "      <td>20739.0</td>\n",
       "      <td>259.027243</td>\n",
       "      <td>261.613962</td>\n",
       "      <td>-1389.0</td>\n",
       "      <td>103.0</td>\n",
       "      <td>178.0</td>\n",
       "      <td>317.0</td>\n",
       "      <td>3881.0</td>\n",
       "    </tr>\n",
       "    <tr>\n",
       "      <th>campaign</th>\n",
       "      <td>20739.0</td>\n",
       "      <td>3.089541</td>\n",
       "      <td>3.660176</td>\n",
       "      <td>1.0</td>\n",
       "      <td>1.0</td>\n",
       "      <td>2.0</td>\n",
       "      <td>3.0</td>\n",
       "      <td>63.0</td>\n",
       "    </tr>\n",
       "    <tr>\n",
       "      <th>pdays</th>\n",
       "      <td>20739.0</td>\n",
       "      <td>-0.990935</td>\n",
       "      <td>1.305461</td>\n",
       "      <td>-1.0</td>\n",
       "      <td>-1.0</td>\n",
       "      <td>-1.0</td>\n",
       "      <td>-1.0</td>\n",
       "      <td>187.0</td>\n",
       "    </tr>\n",
       "    <tr>\n",
       "      <th>previous</th>\n",
       "      <td>20739.0</td>\n",
       "      <td>0.000241</td>\n",
       "      <td>0.034720</td>\n",
       "      <td>0.0</td>\n",
       "      <td>0.0</td>\n",
       "      <td>0.0</td>\n",
       "      <td>0.0</td>\n",
       "      <td>5.0</td>\n",
       "    </tr>\n",
       "  </tbody>\n",
       "</table>\n",
       "</div>"
      ],
      "text/plain": [
       "            count         mean          std     min    25%    50%     75%  \\\n",
       "age       20739.0    41.095762    11.251527    20.0   33.0   40.0    49.0   \n",
       "balance   20739.0  1148.639230  4501.290387 -8019.0   30.0  350.0  1191.0   \n",
       "day       20739.0    15.976469     8.588330     1.0    8.0   15.0    23.0   \n",
       "duration  20739.0   259.027243   261.613962 -1389.0  103.0  178.0   317.0   \n",
       "campaign  20739.0     3.089541     3.660176     1.0    1.0    2.0     3.0   \n",
       "pdays     20739.0    -0.990935     1.305461    -1.0   -1.0   -1.0    -1.0   \n",
       "previous  20739.0     0.000241     0.034720     0.0    0.0    0.0     0.0   \n",
       "\n",
       "               max  \n",
       "age          530.0  \n",
       "balance   527532.0  \n",
       "day           31.0  \n",
       "duration    3881.0  \n",
       "campaign      63.0  \n",
       "pdays        187.0  \n",
       "previous       5.0  "
      ]
     },
     "execution_count": 271,
     "metadata": {},
     "output_type": "execute_result"
    }
   ],
   "source": [
    "df.describe().transpose()"
   ]
  },
  {
   "cell_type": "markdown",
   "metadata": {},
   "source": [
    ">**Observaciónes**\n",
    "> - En la `columna age`, hay un valor máximo inusualmente alto `(530 años)`, lo que indica que puede haber un error en los datos.\n",
    "> - En la `columna balance`, hay valores extremadamente negativos y positivos `(mínimo de -8019 y máximo de 527532)`, lo cual podría requerir más análisis para verificar si son datos correctos.\n",
    "> - La `columna duration` también muestra valores negativos, lo cual es incorrecto para la duración de una llamada `(mínimo de -1389 segundos).`\n",
    "> - La `columna pdays` hay un valor máximo inusualmente alto `(187)` lo que indica que puede haber un error en los datos ya que casi todos los pdays son -1.\n",
    "> - La `columna previous` hay un valor máximo inusualmente alto `(5)` lo que indica que puede haber un error en los datos ya que casi todos los previous son 0."
   ]
  },
  {
   "cell_type": "markdown",
   "metadata": {},
   "source": [
    "**2.7. Verificar datos anomalos en columnas categóricas**"
   ]
  },
  {
   "cell_type": "code",
   "execution_count": 272,
   "metadata": {},
   "outputs": [
    {
     "data": {
      "text/plain": [
       "['job',\n",
       " 'marital',\n",
       " 'education',\n",
       " 'default',\n",
       " 'housing',\n",
       " 'loan',\n",
       " 'contact',\n",
       " 'month',\n",
       " 'poutcome',\n",
       " 'y']"
      ]
     },
     "execution_count": 272,
     "metadata": {},
     "output_type": "execute_result"
    }
   ],
   "source": [
    "columnas_categoricas =  df.select_dtypes(include = 'object').columns.to_list()\n",
    "columnas_categoricas"
   ]
  },
  {
   "cell_type": "markdown",
   "metadata": {},
   "source": [
    "*Columna Job*"
   ]
  },
  {
   "cell_type": "code",
   "execution_count": 273,
   "metadata": {},
   "outputs": [
    {
     "data": {
      "text/plain": [
       "job\n",
       "blue-collar       5414\n",
       "management        3739\n",
       "technician        3319\n",
       "admin.            2349\n",
       "services          2183\n",
       "retired            841\n",
       "entrepreneur       752\n",
       "housemaid          685\n",
       "self-employed      664\n",
       "unemployed         474\n",
       "unknown            159\n",
       "student            151\n",
       "administrative       3\n",
       "Management           2\n",
       "MANAGEMENT           1\n",
       "Self-employed        1\n",
       "Services             1\n",
       "Retired              1\n",
       "Name: count, dtype: int64"
      ]
     },
     "execution_count": 273,
     "metadata": {},
     "output_type": "execute_result"
    }
   ],
   "source": [
    "df['job'].value_counts()"
   ]
  },
  {
   "cell_type": "markdown",
   "metadata": {},
   "source": [
    ">**Observaciónes**\n",
    "> - Se observa que `\"Management\", \"MANAGEMENT\", y \"management\"` aparecen como entradas separadas.\n",
    "> - Se observa que `\"Self-employed\"` también tiene variaciones en la escritura: `\"Self-employed\" y \"self-employed\"`.\n",
    "> - Se observa que hay una categoría incorrecta: `\"administrative\"` solo aparece con 3 entradas mientras que debería ser `parte de \"admin.\".`"
   ]
  },
  {
   "cell_type": "markdown",
   "metadata": {},
   "source": [
    "*Columna Marital*"
   ]
  },
  {
   "cell_type": "code",
   "execution_count": 274,
   "metadata": {},
   "outputs": [
    {
     "data": {
      "text/plain": [
       "marital\n",
       "married     13214\n",
       "single       5002\n",
       "divorced     2509\n",
       "div.            7\n",
       "Single          4\n",
       "DIVORCED        3\n",
       "Name: count, dtype: int64"
      ]
     },
     "execution_count": 274,
     "metadata": {},
     "output_type": "execute_result"
    }
   ],
   "source": [
    "df['marital'].value_counts()"
   ]
  },
  {
   "cell_type": "markdown",
   "metadata": {},
   "source": [
    ">**Observaciónes**\n",
    "> - Se observa que `\"Single\" y \"single\"` deberían `unificarse.`\n",
    "> - Se observa que `\"divorced\"` aparece también como `\"div.\", y \"DIVORCED\"` como una tercera variante."
   ]
  },
  {
   "cell_type": "markdown",
   "metadata": {},
   "source": [
    "*Columna Education*"
   ]
  },
  {
   "cell_type": "code",
   "execution_count": 275,
   "metadata": {},
   "outputs": [
    {
     "data": {
      "text/plain": [
       "education\n",
       "secondary    11063\n",
       "tertiary      4985\n",
       "primary       3741\n",
       "unknown        939\n",
       "SECONDARY        3\n",
       "Primary          2\n",
       "sec.             2\n",
       "UNK              2\n",
       "Secondary        1\n",
       "Tertiary         1\n",
       "Name: count, dtype: int64"
      ]
     },
     "execution_count": 275,
     "metadata": {},
     "output_type": "execute_result"
    }
   ],
   "source": [
    "df['education'].value_counts()"
   ]
  },
  {
   "cell_type": "markdown",
   "metadata": {},
   "source": [
    ">**Observaciónes**\n",
    "> - Se observa que `\"Secondary\", \"SECONDARY\", y \"sec.\"` son lo mismo, pero `están separadas.`\n",
    "> - Se observa que `\"Primary\" y \"primary\"` deberían ser lo mismo.\n",
    "> - También hay un valor `\"UNK\"`, que esta mal codificado y vendria a ser `\"unknown\".`"
   ]
  },
  {
   "cell_type": "markdown",
   "metadata": {},
   "source": [
    "*Columna Loan*"
   ]
  },
  {
   "cell_type": "code",
   "execution_count": 276,
   "metadata": {},
   "outputs": [
    {
     "data": {
      "text/plain": [
       "loan\n",
       "no     16590\n",
       "yes     4139\n",
       "No         5\n",
       "YES        2\n",
       "NO         2\n",
       "Yes        1\n",
       "Name: count, dtype: int64"
      ]
     },
     "execution_count": 276,
     "metadata": {},
     "output_type": "execute_result"
    }
   ],
   "source": [
    "df['loan'].value_counts()"
   ]
  },
  {
   "cell_type": "markdown",
   "metadata": {},
   "source": [
    ">**Observaciónes**\n",
    "> - Se observa que `\"No\", \"NO\", y \"no\"` deben ser `unificados.`\n",
    "> - Se observa que `\"Yes\" y \"YES\", y \"yes\"` deben ser `unificados.`\n"
   ]
  },
  {
   "cell_type": "markdown",
   "metadata": {},
   "source": [
    "*Columna Month*"
   ]
  },
  {
   "cell_type": "code",
   "execution_count": 277,
   "metadata": {},
   "outputs": [
    {
     "data": {
      "text/plain": [
       "month\n",
       "may    7958\n",
       "jul    6380\n",
       "jun    4486\n",
       "aug    1914\n",
       "nov       1\n",
       "Name: count, dtype: int64"
      ]
     },
     "execution_count": 277,
     "metadata": {},
     "output_type": "execute_result"
    }
   ],
   "source": [
    "df['month'].value_counts()"
   ]
  },
  {
   "cell_type": "markdown",
   "metadata": {},
   "source": [
    ">**Observaciónes**\n",
    "> - Se observa que en la `columna mot`h solo contiene `cinco meses: `\"may\", \"jul\", \"jun\", \"aug\", y \"nov\"`. Esto puede indicar que solo se usaron estos meses en la campaña`, pero `\"nov\" solo tiene una entrada`, lo cual es sospechoso y `podría ser un error`, el cual requiere `analizarlo a más detalle.`"
   ]
  },
  {
   "cell_type": "markdown",
   "metadata": {},
   "source": [
    "*Columna Poutcome*"
   ]
  },
  {
   "cell_type": "code",
   "execution_count": 278,
   "metadata": {},
   "outputs": [
    {
     "data": {
      "text/plain": [
       "poutcome\n",
       "unknown    20734\n",
       "UNK            4\n",
       "failure        1\n",
       "Name: count, dtype: int64"
      ]
     },
     "execution_count": 278,
     "metadata": {},
     "output_type": "execute_result"
    }
   ],
   "source": [
    "df['poutcome'].value_counts()"
   ]
  },
  {
   "cell_type": "markdown",
   "metadata": {},
   "source": [
    ">**Observaciónes**\n",
    "> - Se observa que prácticamente todos los valores son `\"unknown\"`, excepto un valor `\"failure\"` y `cuatro valores codificados como \"UNK\"`, lo que probablemente sea un valor `mal codificado.`"
   ]
  },
  {
   "cell_type": "code",
   "execution_count": 279,
   "metadata": {},
   "outputs": [
    {
     "data": {
      "text/plain": [
       "y\n",
       "no     19749\n",
       "yes      990\n",
       "Name: count, dtype: int64"
      ]
     },
     "execution_count": 279,
     "metadata": {},
     "output_type": "execute_result"
    }
   ],
   "source": [
    "df['y'].value_counts()"
   ]
  },
  {
   "cell_type": "markdown",
   "metadata": {},
   "source": [
    ">**Observaciónes**\n",
    "> - Se observa que `no tiene inconsistencias`; los valores están correctamente definidos como \"yes\" y \"no\"."
   ]
  },
  {
   "cell_type": "code",
   "execution_count": 280,
   "metadata": {},
   "outputs": [],
   "source": [
    "columnas =  df.select_dtypes(include = 'object').columns.to_list()\n",
    "columnas\n",
    "def minisculas(x):\n",
    "    x = x.lower()\n",
    "    return x\n",
    "for i in columnas:\n",
    "    df[i] = df[i].apply(minisculas)"
   ]
  }
 ],
 "metadata": {
  "kernelspec": {
   "display_name": "Python 3",
   "language": "python",
   "name": "python3"
  },
  "language_info": {
   "codemirror_mode": {
    "name": "ipython",
    "version": 3
   },
   "file_extension": ".py",
   "mimetype": "text/x-python",
   "name": "python",
   "nbconvert_exporter": "python",
   "pygments_lexer": "ipython3",
   "version": "3.11.9"
  }
 },
 "nbformat": 4,
 "nbformat_minor": 2
}
