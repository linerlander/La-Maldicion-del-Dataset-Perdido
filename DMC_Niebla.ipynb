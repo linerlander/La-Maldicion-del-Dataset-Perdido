{
 "cells": [
  {
   "cell_type": "markdown",
   "metadata": {},
   "source": [
    "# <p style=\"background-color:#2e2b5f;font-family:Creepster,cursive;color:#ffffff;font-size:150%;text-align:center;border-radius:10px 10px;\">👻 La Maldición del Dataset Perdido 🎃</p>\n",
    "---"
   ]
  },
  {
   "cell_type": "markdown",
   "metadata": {},
   "source": [
    "[![Banner-Maldici-n.png](https://i.postimg.cc/FRY3zfqR/Banner-Maldici-n.png)](https://postimg.cc/sQRv023d)"
   ]
  },
  {
   "cell_type": "markdown",
   "metadata": {},
   "source": [
    "<div class=\"alert alert-block alert-info\" style=\"margin-top: 20px\">\n",
    "\n",
    "<font size = 3>\n",
    "    \n",
    "1. <a href=\"#sec_1\">Introducción</a>  \n",
    "2. <a href=\"#sec_2\">Exploración del set de datos</a>  \n",
    "3. <a href=\"#sec_3\">Selección de Muestras</a>  \n",
    "4. <a href=\"#sec_4\">Pre-selección de variables</a>  \n",
    "5. <a href=\"#sec_5\">Preparación de datos</a>\n",
    "6. <a href=\"#sec_6\">Modelo de regresión Lineal</a>  \n",
    "7. <a href=\"#sec_7\">Métricas de desempeño</a> \n",
    "8. <a href=\"#sec_8\">Conclusiones y Recomendaciones</a>     \n",
    "\n",
    " \n",
    "</font>\n",
    "</div>"
   ]
  },
  {
   "cell_type": "code",
   "execution_count": 1,
   "metadata": {},
   "outputs": [],
   "source": [
    "import pandas as pd"
   ]
  },
  {
   "cell_type": "code",
   "execution_count": 29,
   "metadata": {},
   "outputs": [],
   "source": [
    "df =  pd.read_csv('DMC_Concurso_Dataset_Perdido.csv', sep = ';')"
   ]
  },
  {
   "cell_type": "code",
   "execution_count": 30,
   "metadata": {},
   "outputs": [
    {
     "data": {
      "text/html": [
       "<div>\n",
       "<style scoped>\n",
       "    .dataframe tbody tr th:only-of-type {\n",
       "        vertical-align: middle;\n",
       "    }\n",
       "\n",
       "    .dataframe tbody tr th {\n",
       "        vertical-align: top;\n",
       "    }\n",
       "\n",
       "    .dataframe thead th {\n",
       "        text-align: right;\n",
       "    }\n",
       "</style>\n",
       "<table border=\"1\" class=\"dataframe\">\n",
       "  <thead>\n",
       "    <tr style=\"text-align: right;\">\n",
       "      <th></th>\n",
       "      <th>age</th>\n",
       "      <th>job</th>\n",
       "      <th>marital</th>\n",
       "      <th>education</th>\n",
       "      <th>default</th>\n",
       "      <th>balance</th>\n",
       "      <th>housing</th>\n",
       "      <th>loan</th>\n",
       "      <th>contact</th>\n",
       "      <th>day</th>\n",
       "      <th>month</th>\n",
       "      <th>duration</th>\n",
       "      <th>campaign</th>\n",
       "      <th>pdays</th>\n",
       "      <th>previous</th>\n",
       "      <th>poutcome</th>\n",
       "      <th>y</th>\n",
       "    </tr>\n",
       "  </thead>\n",
       "  <tbody>\n",
       "    <tr>\n",
       "      <th>0</th>\n",
       "      <td>58</td>\n",
       "      <td>management</td>\n",
       "      <td>married</td>\n",
       "      <td>tertiary</td>\n",
       "      <td>no</td>\n",
       "      <td>2143</td>\n",
       "      <td>yes</td>\n",
       "      <td>no</td>\n",
       "      <td>unknown</td>\n",
       "      <td>5</td>\n",
       "      <td>may</td>\n",
       "      <td>261</td>\n",
       "      <td>1</td>\n",
       "      <td>-1</td>\n",
       "      <td>0</td>\n",
       "      <td>unknown</td>\n",
       "      <td>no</td>\n",
       "    </tr>\n",
       "    <tr>\n",
       "      <th>1</th>\n",
       "      <td>44</td>\n",
       "      <td>technician</td>\n",
       "      <td>single</td>\n",
       "      <td>secondary</td>\n",
       "      <td>no</td>\n",
       "      <td>29</td>\n",
       "      <td>yes</td>\n",
       "      <td>no</td>\n",
       "      <td>unknown</td>\n",
       "      <td>5</td>\n",
       "      <td>may</td>\n",
       "      <td>151</td>\n",
       "      <td>1</td>\n",
       "      <td>-1</td>\n",
       "      <td>0</td>\n",
       "      <td>unknown</td>\n",
       "      <td>no</td>\n",
       "    </tr>\n",
       "    <tr>\n",
       "      <th>2</th>\n",
       "      <td>33</td>\n",
       "      <td>entrepreneur</td>\n",
       "      <td>married</td>\n",
       "      <td>secondary</td>\n",
       "      <td>no</td>\n",
       "      <td>2</td>\n",
       "      <td>yes</td>\n",
       "      <td>yes</td>\n",
       "      <td>unknown</td>\n",
       "      <td>5</td>\n",
       "      <td>may</td>\n",
       "      <td>76</td>\n",
       "      <td>1</td>\n",
       "      <td>-1</td>\n",
       "      <td>0</td>\n",
       "      <td>unknown</td>\n",
       "      <td>no</td>\n",
       "    </tr>\n",
       "    <tr>\n",
       "      <th>3</th>\n",
       "      <td>47</td>\n",
       "      <td>blue-collar</td>\n",
       "      <td>married</td>\n",
       "      <td>unknown</td>\n",
       "      <td>no</td>\n",
       "      <td>1506</td>\n",
       "      <td>yes</td>\n",
       "      <td>no</td>\n",
       "      <td>unknown</td>\n",
       "      <td>5</td>\n",
       "      <td>may</td>\n",
       "      <td>92</td>\n",
       "      <td>1</td>\n",
       "      <td>-1</td>\n",
       "      <td>0</td>\n",
       "      <td>unknown</td>\n",
       "      <td>no</td>\n",
       "    </tr>\n",
       "    <tr>\n",
       "      <th>4</th>\n",
       "      <td>33</td>\n",
       "      <td>unknown</td>\n",
       "      <td>single</td>\n",
       "      <td>unknown</td>\n",
       "      <td>no</td>\n",
       "      <td>1</td>\n",
       "      <td>no</td>\n",
       "      <td>no</td>\n",
       "      <td>unknown</td>\n",
       "      <td>5</td>\n",
       "      <td>may</td>\n",
       "      <td>198</td>\n",
       "      <td>1</td>\n",
       "      <td>-1</td>\n",
       "      <td>0</td>\n",
       "      <td>unknown</td>\n",
       "      <td>no</td>\n",
       "    </tr>\n",
       "    <tr>\n",
       "      <th>...</th>\n",
       "      <td>...</td>\n",
       "      <td>...</td>\n",
       "      <td>...</td>\n",
       "      <td>...</td>\n",
       "      <td>...</td>\n",
       "      <td>...</td>\n",
       "      <td>...</td>\n",
       "      <td>...</td>\n",
       "      <td>...</td>\n",
       "      <td>...</td>\n",
       "      <td>...</td>\n",
       "      <td>...</td>\n",
       "      <td>...</td>\n",
       "      <td>...</td>\n",
       "      <td>...</td>\n",
       "      <td>...</td>\n",
       "      <td>...</td>\n",
       "    </tr>\n",
       "    <tr>\n",
       "      <th>20734</th>\n",
       "      <td>52</td>\n",
       "      <td>management</td>\n",
       "      <td>married</td>\n",
       "      <td>secondary</td>\n",
       "      <td>no</td>\n",
       "      <td>-892</td>\n",
       "      <td>yes</td>\n",
       "      <td>no</td>\n",
       "      <td>cellular</td>\n",
       "      <td>13</td>\n",
       "      <td>aug</td>\n",
       "      <td>295</td>\n",
       "      <td>2</td>\n",
       "      <td>-1</td>\n",
       "      <td>0</td>\n",
       "      <td>unknown</td>\n",
       "      <td>no</td>\n",
       "    </tr>\n",
       "    <tr>\n",
       "      <th>20735</th>\n",
       "      <td>51</td>\n",
       "      <td>admin.</td>\n",
       "      <td>married</td>\n",
       "      <td>secondary</td>\n",
       "      <td>no</td>\n",
       "      <td>21</td>\n",
       "      <td>no</td>\n",
       "      <td>yes</td>\n",
       "      <td>cellular</td>\n",
       "      <td>13</td>\n",
       "      <td>aug</td>\n",
       "      <td>157</td>\n",
       "      <td>2</td>\n",
       "      <td>-1</td>\n",
       "      <td>0</td>\n",
       "      <td>unknown</td>\n",
       "      <td>no</td>\n",
       "    </tr>\n",
       "    <tr>\n",
       "      <th>20736</th>\n",
       "      <td>35</td>\n",
       "      <td>technician</td>\n",
       "      <td>married</td>\n",
       "      <td>secondary</td>\n",
       "      <td>no</td>\n",
       "      <td>-180</td>\n",
       "      <td>no</td>\n",
       "      <td>yes</td>\n",
       "      <td>cellular</td>\n",
       "      <td>13</td>\n",
       "      <td>aug</td>\n",
       "      <td>823</td>\n",
       "      <td>2</td>\n",
       "      <td>-1</td>\n",
       "      <td>0</td>\n",
       "      <td>unknown</td>\n",
       "      <td>yes</td>\n",
       "    </tr>\n",
       "    <tr>\n",
       "      <th>20737</th>\n",
       "      <td>51</td>\n",
       "      <td>admin.</td>\n",
       "      <td>married</td>\n",
       "      <td>secondary</td>\n",
       "      <td>no</td>\n",
       "      <td>79</td>\n",
       "      <td>no</td>\n",
       "      <td>no</td>\n",
       "      <td>cellular</td>\n",
       "      <td>13</td>\n",
       "      <td>aug</td>\n",
       "      <td>89</td>\n",
       "      <td>2</td>\n",
       "      <td>-1</td>\n",
       "      <td>0</td>\n",
       "      <td>unknown</td>\n",
       "      <td>no</td>\n",
       "    </tr>\n",
       "    <tr>\n",
       "      <th>20738</th>\n",
       "      <td>31</td>\n",
       "      <td>entrepreneur</td>\n",
       "      <td>single</td>\n",
       "      <td>tertiary</td>\n",
       "      <td>yes</td>\n",
       "      <td>-405</td>\n",
       "      <td>yes</td>\n",
       "      <td>yes</td>\n",
       "      <td>cellular</td>\n",
       "      <td>13</td>\n",
       "      <td>aug</td>\n",
       "      <td>703</td>\n",
       "      <td>2</td>\n",
       "      <td>-1</td>\n",
       "      <td>0</td>\n",
       "      <td>unknown</td>\n",
       "      <td>yes</td>\n",
       "    </tr>\n",
       "  </tbody>\n",
       "</table>\n",
       "<p>20739 rows × 17 columns</p>\n",
       "</div>"
      ],
      "text/plain": [
       "       age           job  marital  education default  balance housing loan  \\\n",
       "0       58    management  married   tertiary      no     2143     yes   no   \n",
       "1       44    technician   single  secondary      no       29     yes   no   \n",
       "2       33  entrepreneur  married  secondary      no        2     yes  yes   \n",
       "3       47   blue-collar  married    unknown      no     1506     yes   no   \n",
       "4       33       unknown   single    unknown      no        1      no   no   \n",
       "...    ...           ...      ...        ...     ...      ...     ...  ...   \n",
       "20734   52    management  married  secondary      no     -892     yes   no   \n",
       "20735   51        admin.  married  secondary      no       21      no  yes   \n",
       "20736   35    technician  married  secondary      no     -180      no  yes   \n",
       "20737   51        admin.  married  secondary      no       79      no   no   \n",
       "20738   31  entrepreneur   single   tertiary     yes     -405     yes  yes   \n",
       "\n",
       "        contact  day month  duration  campaign  pdays  previous poutcome    y  \n",
       "0       unknown    5   may       261         1     -1         0  unknown   no  \n",
       "1       unknown    5   may       151         1     -1         0  unknown   no  \n",
       "2       unknown    5   may        76         1     -1         0  unknown   no  \n",
       "3       unknown    5   may        92         1     -1         0  unknown   no  \n",
       "4       unknown    5   may       198         1     -1         0  unknown   no  \n",
       "...         ...  ...   ...       ...       ...    ...       ...      ...  ...  \n",
       "20734  cellular   13   aug       295         2     -1         0  unknown   no  \n",
       "20735  cellular   13   aug       157         2     -1         0  unknown   no  \n",
       "20736  cellular   13   aug       823         2     -1         0  unknown  yes  \n",
       "20737  cellular   13   aug        89         2     -1         0  unknown   no  \n",
       "20738  cellular   13   aug       703         2     -1         0  unknown  yes  \n",
       "\n",
       "[20739 rows x 17 columns]"
      ]
     },
     "execution_count": 30,
     "metadata": {},
     "output_type": "execute_result"
    }
   ],
   "source": [
    "df"
   ]
  },
  {
   "cell_type": "code",
   "execution_count": 31,
   "metadata": {},
   "outputs": [],
   "source": [
    "df =  df.drop_duplicates()"
   ]
  },
  {
   "cell_type": "code",
   "execution_count": 32,
   "metadata": {},
   "outputs": [
    {
     "name": "stdout",
     "output_type": "stream",
     "text": [
      "<class 'pandas.core.frame.DataFrame'>\n",
      "Index: 20738 entries, 0 to 20738\n",
      "Data columns (total 17 columns):\n",
      " #   Column     Non-Null Count  Dtype \n",
      "---  ------     --------------  ----- \n",
      " 0   age        20738 non-null  int64 \n",
      " 1   job        20738 non-null  object\n",
      " 2   marital    20738 non-null  object\n",
      " 3   education  20738 non-null  object\n",
      " 4   default    20738 non-null  object\n",
      " 5   balance    20738 non-null  int64 \n",
      " 6   housing    20738 non-null  object\n",
      " 7   loan       20738 non-null  object\n",
      " 8   contact    20738 non-null  object\n",
      " 9   day        20738 non-null  int64 \n",
      " 10  month      20738 non-null  object\n",
      " 11  duration   20738 non-null  int64 \n",
      " 12  campaign   20738 non-null  int64 \n",
      " 13  pdays      20738 non-null  int64 \n",
      " 14  previous   20738 non-null  int64 \n",
      " 15  poutcome   20738 non-null  object\n",
      " 16  y          20738 non-null  object\n",
      "dtypes: int64(7), object(10)\n",
      "memory usage: 2.8+ MB\n"
     ]
    }
   ],
   "source": [
    "df.info()"
   ]
  },
  {
   "cell_type": "code",
   "execution_count": 33,
   "metadata": {},
   "outputs": [
    {
     "data": {
      "text/plain": [
       "job\n",
       "blue-collar       5413\n",
       "management        3739\n",
       "technician        3319\n",
       "admin.            2349\n",
       "services          2183\n",
       "retired            841\n",
       "entrepreneur       752\n",
       "housemaid          685\n",
       "self-employed      664\n",
       "unemployed         474\n",
       "unknown            159\n",
       "student            151\n",
       "administrative       3\n",
       "Management           2\n",
       "MANAGEMENT           1\n",
       "Self-employed        1\n",
       "Services             1\n",
       "Retired              1\n",
       "Name: count, dtype: int64"
      ]
     },
     "execution_count": 33,
     "metadata": {},
     "output_type": "execute_result"
    }
   ],
   "source": [
    "df['job'].value_counts()"
   ]
  },
  {
   "cell_type": "code",
   "execution_count": 24,
   "metadata": {},
   "outputs": [
    {
     "name": "stderr",
     "output_type": "stream",
     "text": [
      "C:\\Users\\EQUIPO\\AppData\\Local\\Temp\\ipykernel_17528\\533480317.py:7: SettingWithCopyWarning: \n",
      "A value is trying to be set on a copy of a slice from a DataFrame.\n",
      "Try using .loc[row_indexer,col_indexer] = value instead\n",
      "\n",
      "See the caveats in the documentation: https://pandas.pydata.org/pandas-docs/stable/user_guide/indexing.html#returning-a-view-versus-a-copy\n",
      "  df[i] = df[i].apply(minisculas)\n"
     ]
    }
   ],
   "source": [
    "columnas =  df.select_dtypes(include = 'object').columns.to_list()\n",
    "columnas\n",
    "def minisculas(x):\n",
    "    x = x.lower()\n",
    "    return x\n",
    "for i in columnas:\n",
    "    df[i] = df[i].apply(minisculas)"
   ]
  },
  {
   "cell_type": "code",
   "execution_count": 26,
   "metadata": {},
   "outputs": [
    {
     "data": {
      "text/plain": [
       "job\n",
       "blue-collar       5413\n",
       "management        3742\n",
       "technician        3319\n",
       "admin.            2349\n",
       "services          2184\n",
       "retired            842\n",
       "entrepreneur       752\n",
       "housemaid          685\n",
       "self-employed      665\n",
       "unemployed         474\n",
       "unknown            159\n",
       "student            151\n",
       "administrative       3\n",
       "Name: count, dtype: int64"
      ]
     },
     "execution_count": 26,
     "metadata": {},
     "output_type": "execute_result"
    }
   ],
   "source": [
    "df['job'].value_counts()"
   ]
  },
  {
   "cell_type": "code",
   "execution_count": 27,
   "metadata": {},
   "outputs": [
    {
     "name": "stderr",
     "output_type": "stream",
     "text": [
      "C:\\Users\\EQUIPO\\AppData\\Local\\Temp\\ipykernel_17528\\3213829861.py:1: SettingWithCopyWarning: \n",
      "A value is trying to be set on a copy of a slice from a DataFrame.\n",
      "Try using .loc[row_indexer,col_indexer] = value instead\n",
      "\n",
      "See the caveats in the documentation: https://pandas.pydata.org/pandas-docs/stable/user_guide/indexing.html#returning-a-view-versus-a-copy\n",
      "  df['job'] =  df['job'].replace({'admin.':'administrative'})\n"
     ]
    }
   ],
   "source": [
    "df['job'] =  df['job'].replace({'admin.':'administrative'})"
   ]
  },
  {
   "cell_type": "code",
   "execution_count": 28,
   "metadata": {},
   "outputs": [
    {
     "data": {
      "text/plain": [
       "job\n",
       "blue-collar       5413\n",
       "management        3742\n",
       "technician        3319\n",
       "administrative    2352\n",
       "services          2184\n",
       "retired            842\n",
       "entrepreneur       752\n",
       "housemaid          685\n",
       "self-employed      665\n",
       "unemployed         474\n",
       "unknown            159\n",
       "student            151\n",
       "Name: count, dtype: int64"
      ]
     },
     "execution_count": 28,
     "metadata": {},
     "output_type": "execute_result"
    }
   ],
   "source": [
    "df['job'].value_counts()"
   ]
  },
  {
   "cell_type": "code",
   "execution_count": null,
   "metadata": {},
   "outputs": [],
   "source": []
  },
  {
   "cell_type": "code",
   "execution_count": null,
   "metadata": {},
   "outputs": [],
   "source": []
  },
  {
   "cell_type": "code",
   "execution_count": 22,
   "metadata": {},
   "outputs": [
    {
     "data": {
      "text/plain": [
       "['job',\n",
       " 'marital',\n",
       " 'education',\n",
       " 'default',\n",
       " 'housing',\n",
       " 'loan',\n",
       " 'contact',\n",
       " 'month',\n",
       " 'poutcome',\n",
       " 'y']"
      ]
     },
     "execution_count": 22,
     "metadata": {},
     "output_type": "execute_result"
    }
   ],
   "source": [
    "columnas =  df.select_dtypes(include = 'object').columns.to_list()\n",
    "columnas"
   ]
  },
  {
   "cell_type": "code",
   "execution_count": 18,
   "metadata": {},
   "outputs": [
    {
     "data": {
      "text/plain": [
       "job\n",
       "blue-collar       5413\n",
       "management        3739\n",
       "technician        3319\n",
       "admin.            2349\n",
       "services          2183\n",
       "retired            841\n",
       "entrepreneur       752\n",
       "housemaid          685\n",
       "self-employed      664\n",
       "unemployed         474\n",
       "unknown            159\n",
       "student            151\n",
       "administrative       3\n",
       "Management           2\n",
       "MANAGEMENT           1\n",
       "Self-employed        1\n",
       "Services             1\n",
       "Retired              1\n",
       "Name: count, dtype: int64"
      ]
     },
     "execution_count": 18,
     "metadata": {},
     "output_type": "execute_result"
    }
   ],
   "source": [
    "df['job'].value_counts()"
   ]
  },
  {
   "cell_type": "code",
   "execution_count": 17,
   "metadata": {},
   "outputs": [
    {
     "data": {
      "text/plain": [
       "age\n",
       "31     849\n",
       "35     848\n",
       "32     834\n",
       "36     825\n",
       "37     790\n",
       "34     773\n",
       "33     749\n",
       "39     740\n",
       "38     709\n",
       "30     698\n",
       "40     683\n",
       "41     670\n",
       "42     642\n",
       "44     628\n",
       "45     625\n",
       "46     581\n",
       "43     576\n",
       "29     549\n",
       "47     536\n",
       "49     523\n",
       "51     501\n",
       "48     492\n",
       "50     492\n",
       "52     463\n",
       "28     459\n",
       "53     453\n",
       "57     431\n",
       "56     417\n",
       "55     416\n",
       "27     414\n",
       "59     403\n",
       "54     395\n",
       "58     377\n",
       "26     366\n",
       "60     306\n",
       "25     261\n",
       "24     105\n",
       "23      72\n",
       "22      31\n",
       "61      25\n",
       "21      16\n",
       "20       9\n",
       "530      1\n",
       "490      1\n",
       "123      1\n",
       "332      1\n",
       "311      1\n",
       "399      1\n",
       "Name: count, dtype: int64"
      ]
     },
     "execution_count": 17,
     "metadata": {},
     "output_type": "execute_result"
    }
   ],
   "source": [
    "df['age'].value_counts()"
   ]
  },
  {
   "cell_type": "code",
   "execution_count": null,
   "metadata": {},
   "outputs": [],
   "source": []
  }
 ],
 "metadata": {
  "kernelspec": {
   "display_name": "Python 3",
   "language": "python",
   "name": "python3"
  },
  "language_info": {
   "codemirror_mode": {
    "name": "ipython",
    "version": 3
   },
   "file_extension": ".py",
   "mimetype": "text/x-python",
   "name": "python",
   "nbconvert_exporter": "python",
   "pygments_lexer": "ipython3",
   "version": "3.11.9"
  }
 },
 "nbformat": 4,
 "nbformat_minor": 2
}
